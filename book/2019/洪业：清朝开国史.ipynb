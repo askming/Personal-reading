{
 "cells": [
  {
   "cell_type": "markdown",
   "metadata": {},
   "source": [
    "![cover](https://img3.doubanio.com/view/subject/l/public/s29403102.jpg)\n",
    "\n",
    "----\n",
    "\n",
    "## 目录\n",
    "\n",
    "### 编者说明\n",
    "### 增订版序\n",
    "    前 言\n",
    "    第一章 北部边防\n",
    "    第二章 崇祯朝廷\n",
    "    第三章 满族势力的扩张\n",
    "    第四章 北京的陷落\n",
    "    第五章 南京政权\n",
    "    第六章 清朝统治的建立\n",
    "    第七章 南京的陷落\n",
    "    第八章 江南的抵抗运动\n",
    "    第九章 北方中国的地方控制\n",
    "    第十章 “危时计拙”\n",
    "    第十一章 北方的最后平定\n",
    "    第十二章 多尔衮摄政\n",
    "    第十三章 顺治朝\n",
    "    第十四章 专制危机的一种解决形式\n",
    "    第十五章 从明至清的忠君思想\n",
    "### 附 录\n",
    "### 中文、日文引书目录\n",
    "### 西文引书目录\n",
    "### 译后记\n",
    "### 代后记：远航"
   ]
  },
  {
   "cell_type": "code",
   "execution_count": null,
   "metadata": {},
   "outputs": [],
   "source": []
  }
 ],
 "metadata": {
  "kernelspec": {
   "display_name": "Python 3",
   "language": "python",
   "name": "python3"
  },
  "language_info": {
   "codemirror_mode": {
    "name": "ipython",
    "version": 3
   },
   "file_extension": ".py",
   "mimetype": "text/x-python",
   "name": "python",
   "nbconvert_exporter": "python",
   "pygments_lexer": "ipython3",
   "version": "3.6.2"
  }
 },
 "nbformat": 4,
 "nbformat_minor": 2
}
